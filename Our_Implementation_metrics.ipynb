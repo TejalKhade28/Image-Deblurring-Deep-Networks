{
  "nbformat": 4,
  "nbformat_minor": 0,
  "metadata": {
    "colab": {
      "provenance": []
    },
    "kernelspec": {
      "name": "python3",
      "display_name": "Python 3"
    },
    "language_info": {
      "name": "python"
    }
  },
  "cells": [
    {
      "cell_type": "code",
      "source": [
        "pip install sewar"
      ],
      "metadata": {
        "colab": {
          "base_uri": "https://localhost:8080/"
        },
        "id": "kz6nTqDYa_fa",
        "outputId": "6479bac6-7658-4fc9-8ec7-387115e1442c"
      },
      "execution_count": null,
      "outputs": [
        {
          "output_type": "stream",
          "name": "stdout",
          "text": [
            "Looking in indexes: https://pypi.org/simple, https://us-python.pkg.dev/colab-wheels/public/simple/\n",
            "Requirement already satisfied: sewar in /usr/local/lib/python3.9/dist-packages (0.4.5)\n",
            "Requirement already satisfied: scipy in /usr/local/lib/python3.9/dist-packages (from sewar) (1.10.1)\n",
            "Requirement already satisfied: Pillow in /usr/local/lib/python3.9/dist-packages (from sewar) (8.4.0)\n",
            "Requirement already satisfied: numpy in /usr/local/lib/python3.9/dist-packages (from sewar) (1.22.4)\n"
          ]
        }
      ]
    },
    {
      "cell_type": "code",
      "source": [
        "import cv2\n",
        "import numpy as np\n",
        "from sewar import full_ref\n",
        "from skimage import measure"
      ],
      "metadata": {
        "id": "a7hbYjafbC6x"
      },
      "execution_count": null,
      "outputs": []
    },
    {
      "cell_type": "code",
      "source": [
        "#Reference and image to be compared must be of the same size\n",
        "ref_img = cv2.imread(\"im1581.jpg\", 1)\n",
        "img = cv2.imread(\"im158.jpg\", 1)"
      ],
      "metadata": {
        "id": "O9EgJ8h3bIJM"
      },
      "execution_count": null,
      "outputs": []
    },
    {
      "cell_type": "code",
      "source": [],
      "metadata": {
        "id": "y84klhClWNpp"
      },
      "execution_count": null,
      "outputs": []
    },
    {
      "cell_type": "code",
      "source": [
        "pip install scikit-image"
      ],
      "metadata": {
        "colab": {
          "base_uri": "https://localhost:8080/"
        },
        "id": "ok3zhzq8cOuM",
        "outputId": "553cf63e-d9d0-4dfd-b225-80678708b817"
      },
      "execution_count": null,
      "outputs": [
        {
          "output_type": "stream",
          "name": "stdout",
          "text": [
            "Looking in indexes: https://pypi.org/simple, https://us-python.pkg.dev/colab-wheels/public/simple/\n",
            "Requirement already satisfied: scikit-image in /usr/local/lib/python3.9/dist-packages (0.19.3)\n",
            "Requirement already satisfied: PyWavelets>=1.1.1 in /usr/local/lib/python3.9/dist-packages (from scikit-image) (1.4.1)\n",
            "Requirement already satisfied: tifffile>=2019.7.26 in /usr/local/lib/python3.9/dist-packages (from scikit-image) (2023.3.21)\n",
            "Requirement already satisfied: numpy>=1.17.0 in /usr/local/lib/python3.9/dist-packages (from scikit-image) (1.22.4)\n",
            "Requirement already satisfied: networkx>=2.2 in /usr/local/lib/python3.9/dist-packages (from scikit-image) (3.1)\n",
            "Requirement already satisfied: imageio>=2.4.1 in /usr/local/lib/python3.9/dist-packages (from scikit-image) (2.25.1)\n",
            "Requirement already satisfied: pillow!=7.1.0,!=7.1.1,!=8.3.0,>=6.1.0 in /usr/local/lib/python3.9/dist-packages (from scikit-image) (8.4.0)\n",
            "Requirement already satisfied: scipy>=1.4.1 in /usr/local/lib/python3.9/dist-packages (from scikit-image) (1.10.1)\n",
            "Requirement already satisfied: packaging>=20.0 in /usr/local/lib/python3.9/dist-packages (from scikit-image) (23.0)\n"
          ]
        }
      ]
    },
    {
      "cell_type": "code",
      "source": [
        "#skimage tools\n",
        "#Mean square error\n",
        "from skimage.metrics import mean_squared_error\n",
        "mse_skimg = mean_squared_error(ref_img, img)\n",
        "print(\"MSE: based on scikit-image = \", mse_skimg)"
      ],
      "metadata": {
        "colab": {
          "base_uri": "https://localhost:8080/"
        },
        "id": "uXPXc4eicUV0",
        "outputId": "0333a3e0-9d0f-4a44-9fa7-63330517a1f2"
      },
      "execution_count": null,
      "outputs": [
        {
          "output_type": "stream",
          "name": "stdout",
          "text": [
            "MSE: based on scikit-image =  149.3971964518229\n"
          ]
        }
      ]
    },
    {
      "cell_type": "code",
      "source": [
        "#Normalized root mean squared error\n",
        "from skimage.metrics import normalized_root_mse\n",
        "rmse_skimg = normalized_root_mse(ref_img, img)\n",
        "print(\"RMSE: based on scikit-image = \", rmse_skimg)"
      ],
      "metadata": {
        "colab": {
          "base_uri": "https://localhost:8080/"
        },
        "id": "llfK0n_fcdMu",
        "outputId": "3f86c91d-9684-4fc6-aff1-531c181533d6"
      },
      "execution_count": null,
      "outputs": [
        {
          "output_type": "stream",
          "name": "stdout",
          "text": [
            "RMSE: based on scikit-image =  0.1409142490635714\n"
          ]
        }
      ]
    },
    {
      "cell_type": "code",
      "source": [
        "#skimage tools\n",
        "#Mean square error\n",
        "from skimage.metrics import peak_signal_noise_ratio\n",
        "psnr_skimg = peak_signal_noise_ratio(ref_img, img, data_range=None)\n",
        "print(\"PSNR: based on scikit-image = \", psnr_skimg)"
      ],
      "metadata": {
        "colab": {
          "base_uri": "https://localhost:8080/"
        },
        "id": "x6w_8dXQcg1H",
        "outputId": "2b0d7844-72bc-4b73-daa6-83d5b337dc41"
      },
      "execution_count": null,
      "outputs": [
        {
          "output_type": "stream",
          "name": "stdout",
          "text": [
            "PSNR: based on scikit-image =  26.3873791316716\n"
          ]
        }
      ]
    },
    {
      "cell_type": "code",
      "source": [
        "#Reference and image to be compared must be of the same size\n",
        "ref_img = cv2.imread(\"im1581.jpg\", 1)\n",
        "img = cv2.imread(\"334.jpg\", 1)"
      ],
      "metadata": {
        "id": "QHfPYJj0WPa2"
      },
      "execution_count": null,
      "outputs": []
    },
    {
      "cell_type": "code",
      "source": [
        "#skimage tools\n",
        "#Mean square error\n",
        "from skimage.metrics import mean_squared_error\n",
        "mse_skimg = mean_squared_error(ref_img, img)\n",
        "print(\"MSE: based on scikit-image = \", mse_skimg)"
      ],
      "metadata": {
        "colab": {
          "base_uri": "https://localhost:8080/"
        },
        "id": "GZfHtv8aWTjW",
        "outputId": "4197d3d4-4722-4527-989e-d51fd278115d"
      },
      "execution_count": null,
      "outputs": [
        {
          "output_type": "stream",
          "name": "stdout",
          "text": [
            "MSE: based on scikit-image =  1395.6802368164062\n"
          ]
        }
      ]
    },
    {
      "cell_type": "code",
      "source": [
        "#skimage tools\n",
        "#Mean square error\n",
        "from skimage.metrics import peak_signal_noise_ratio\n",
        "psnr_skimg = peak_signal_noise_ratio(ref_img, img, data_range=None)\n",
        "print(\"PSNR: based on scikit-image = \", psnr_skimg)"
      ],
      "metadata": {
        "colab": {
          "base_uri": "https://localhost:8080/"
        },
        "id": "gRROyIilWaDc",
        "outputId": "699ef6c6-a5bb-4502-faf8-da70e2bde4ef"
      },
      "execution_count": null,
      "outputs": [
        {
          "output_type": "stream",
          "name": "stdout",
          "text": [
            "PSNR: based on scikit-image =  16.682944320458766\n"
          ]
        }
      ]
    }
  ]
}