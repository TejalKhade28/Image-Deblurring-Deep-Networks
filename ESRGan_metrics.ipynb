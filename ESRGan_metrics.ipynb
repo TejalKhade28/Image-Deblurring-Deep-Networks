{
  "nbformat": 4,
  "nbformat_minor": 0,
  "metadata": {
    "colab": {
      "provenance": []
    },
    "kernelspec": {
      "name": "python3",
      "display_name": "Python 3"
    },
    "language_info": {
      "name": "python"
    }
  },
  "cells": [
    {
      "cell_type": "code",
      "source": [
        " pip install sewar"
      ],
      "metadata": {
        "colab": {
          "base_uri": "https://localhost:8080/"
        },
        "id": "Gh9KwKR9tAYe",
        "outputId": "96448a0b-6b6c-4258-a053-5c53cec22053"
      },
      "execution_count": null,
      "outputs": [
        {
          "output_type": "stream",
          "name": "stdout",
          "text": [
            "Looking in indexes: https://pypi.org/simple, https://us-python.pkg.dev/colab-wheels/public/simple/\n",
            "Collecting sewar\n",
            "  Downloading sewar-0.4.5.tar.gz (11 kB)\n",
            "  Preparing metadata (setup.py) ... \u001b[?25l\u001b[?25hdone\n",
            "Requirement already satisfied: numpy in /usr/local/lib/python3.9/dist-packages (from sewar) (1.22.4)\n",
            "Requirement already satisfied: scipy in /usr/local/lib/python3.9/dist-packages (from sewar) (1.10.1)\n",
            "Requirement already satisfied: Pillow in /usr/local/lib/python3.9/dist-packages (from sewar) (8.4.0)\n",
            "Building wheels for collected packages: sewar\n",
            "  Building wheel for sewar (setup.py) ... \u001b[?25l\u001b[?25hdone\n",
            "  Created wheel for sewar: filename=sewar-0.4.5-py3-none-any.whl size=10599 sha256=5359d5c8e5d3ca1a15988828784d3f2617b55034b9b52e153224317b6eebce0e\n",
            "  Stored in directory: /root/.cache/pip/wheels/90/c1/d2/90faa299f5473d447a9a489377305840b7268c92b79bb5e000\n",
            "Successfully built sewar\n",
            "Installing collected packages: sewar\n",
            "Successfully installed sewar-0.4.5\n"
          ]
        }
      ]
    },
    {
      "cell_type": "code",
      "source": [
        "import cv2\n",
        "import numpy as np\n",
        "from sewar import full_ref\n",
        "from skimage import measure"
      ],
      "metadata": {
        "id": "tBTjUQUztLOZ"
      },
      "execution_count": null,
      "outputs": []
    },
    {
      "cell_type": "code",
      "source": [
        "#Reference and image to be compared must be of the same size\n",
        "ref_img = cv2.imread(\"cctvb.jpeg\", 1)\n",
        "img = cv2.imread(\"cctv.jpeg\", 1)"
      ],
      "metadata": {
        "id": "xEx2kf1mtNqV"
      },
      "execution_count": null,
      "outputs": []
    },
    {
      "cell_type": "code",
      "source": [
        "#skimage tools\n",
        "#Mean square error\n",
        "from skimage.metrics import mean_squared_error\n",
        "mse_skimg = mean_squared_error(ref_img, img)\n",
        "print(\"MSE: based on scikit-image = \", mse_skimg)"
      ],
      "metadata": {
        "colab": {
          "base_uri": "https://localhost:8080/"
        },
        "id": "93CjjM9wNj4f",
        "outputId": "a63daa41-2320-4c3c-a0bf-b9329590b1d7"
      },
      "execution_count": null,
      "outputs": [
        {
          "output_type": "stream",
          "name": "stdout",
          "text": [
            "MSE: based on scikit-image =  116.21938069661458\n"
          ]
        }
      ]
    },
    {
      "cell_type": "code",
      "source": [
        "#Normalized root mean squared error\n",
        "from skimage.metrics import normalized_root_mse\n",
        "rmse_skimg = normalized_root_mse(ref_img, img)\n",
        "print(\"RMSE: based on scikit-image = \", rmse_skimg)"
      ],
      "metadata": {
        "colab": {
          "base_uri": "https://localhost:8080/"
        },
        "id": "SScUKX1ZNmLn",
        "outputId": "55c8744f-d428-4b31-d494-b95a041dd4e9"
      },
      "execution_count": null,
      "outputs": [
        {
          "output_type": "stream",
          "name": "stdout",
          "text": [
            "RMSE: based on scikit-image =  0.07151205984884723\n"
          ]
        }
      ]
    },
    {
      "cell_type": "code",
      "source": [
        "#skimage tools\n",
        "#Mean square error\n",
        "from skimage.metrics import peak_signal_noise_ratio\n",
        "psnr_skimg = peak_signal_noise_ratio(ref_img, img, data_range=None)\n",
        "print(\"PSNR: based on scikit-image = \", psnr_skimg)"
      ],
      "metadata": {
        "colab": {
          "base_uri": "https://localhost:8080/"
        },
        "id": "i0k4Wc4BNrrL",
        "outputId": "deb8c4c2-a4e7-4350-f0e0-069eb04ddf68"
      },
      "execution_count": null,
      "outputs": [
        {
          "output_type": "stream",
          "name": "stdout",
          "text": [
            "PSNR: based on scikit-image =  27.478018040033206\n"
          ]
        }
      ]
    },
    {
      "cell_type": "code",
      "source": [
        "#PSNR\n",
        "\"\"\"calculates peak signal-to-noise ratio (psnr).\n",
        "\t:param GT: first (original) input image.\n",
        "\t:param P: second (deformed) input image.\n",
        "\t:param MAX: maximum value of datarange (if None, MAX is calculated using image dtype).\n",
        "\t:returns:  float -- psnr value in dB.\n",
        "\t\"\"\"\n",
        "psnr_img=full_ref.psnr(ref_img, img, MAX=None)\n",
        "\n",
        "print(\"PSNR: peak signal-to-noise ratio = \", psnr_img)\n"
      ],
      "metadata": {
        "colab": {
          "base_uri": "https://localhost:8080/"
        },
        "id": "zGKNdEUouMb8",
        "outputId": "96ae5a05-5c87-4467-ea7a-6f66d5084e32"
      },
      "execution_count": null,
      "outputs": [
        {
          "output_type": "stream",
          "name": "stdout",
          "text": [
            "PSNR: peak signal-to-noise ratio =  27.478018040033206\n"
          ]
        }
      ]
    },
    {
      "cell_type": "code",
      "source": [
        "#Reference and image to be compared must be of the same size\n",
        "ref_img = cv2.imread(\"cctv.b.jpg\", 1)\n",
        "img = cv2.imread(\"cctv.jpg\", 1)"
      ],
      "metadata": {
        "id": "JFeuI0fGSSw6"
      },
      "execution_count": null,
      "outputs": []
    },
    {
      "cell_type": "code",
      "source": [
        "#skimage tools\n",
        "#Mean square error\n",
        "from skimage.metrics import mean_squared_error\n",
        "mse_skimg = mean_squared_error(ref_img, img)\n",
        "print(\"MSE: based on scikit-image = \", mse_skimg)"
      ],
      "metadata": {
        "colab": {
          "base_uri": "https://localhost:8080/"
        },
        "id": "tWEk0kP-SUE5",
        "outputId": "6dbd251c-9ac2-4383-ff2e-433984beb859"
      },
      "execution_count": null,
      "outputs": [
        {
          "output_type": "stream",
          "name": "stdout",
          "text": [
            "MSE: based on scikit-image =  0.5344012225115741\n"
          ]
        }
      ]
    },
    {
      "cell_type": "code",
      "source": [
        "#Normalized root mean squared error\n",
        "from skimage.metrics import normalized_root_mse\n",
        "rmse_skimg = normalized_root_mse(ref_img, img)\n",
        "print(\"RMSE: based on scikit-image = \", rmse_skimg)"
      ],
      "metadata": {
        "colab": {
          "base_uri": "https://localhost:8080/"
        },
        "id": "DPWAEKK7SZ7j",
        "outputId": "27043c6f-4447-4a7c-8376-64b2951ac94b"
      },
      "execution_count": null,
      "outputs": [
        {
          "output_type": "stream",
          "name": "stdout",
          "text": [
            "RMSE: based on scikit-image =  0.005431987847526244\n"
          ]
        }
      ]
    },
    {
      "cell_type": "code",
      "source": [
        "#PSNR\n",
        "\"\"\"calculates peak signal-to-noise ratio (psnr).\n",
        "\t:param GT: first (original) input image.\n",
        "\t:param P: second (deformed) input image.\n",
        "\t:param MAX: maximum value of datarange (if None, MAX is calculated using image dtype).\n",
        "\t:returns:  float -- psnr value in dB.\n",
        "\t\"\"\"\n",
        "psnr_img=full_ref.psnr(ref_img, img, MAX=None)\n",
        "\n",
        "print(\"PSNR: peak signal-to-noise ratio = \", psnr_img)\n"
      ],
      "metadata": {
        "colab": {
          "base_uri": "https://localhost:8080/"
        },
        "id": "EOFRoNHvSfHx",
        "outputId": "51b8c2e4-c3d2-46fa-c231-73e1222019c3"
      },
      "execution_count": null,
      "outputs": [
        {
          "output_type": "stream",
          "name": "stdout",
          "text": [
            "PSNR: peak signal-to-noise ratio =  50.852129178947635\n"
          ]
        }
      ]
    },
    {
      "cell_type": "code",
      "source": [
        "#Reference and image to be compared must be of the same size\n",
        "ref_img = cv2.imread(\"im283lr.jpg\", 1)\n",
        "img = cv2.imread(\"im283hr.jpg\", 1)"
      ],
      "metadata": {
        "id": "xyoL-gM4TpUt"
      },
      "execution_count": null,
      "outputs": []
    },
    {
      "cell_type": "code",
      "source": [
        "#skimage tools\n",
        "#Mean square error\n",
        "from skimage.metrics import mean_squared_error\n",
        "mse_skimg = mean_squared_error(ref_img, img)\n",
        "print(\"MSE: based on scikit-image = \", mse_skimg)"
      ],
      "metadata": {
        "colab": {
          "base_uri": "https://localhost:8080/"
        },
        "id": "agiSIhrgTqje",
        "outputId": "6a2da870-7f5b-4898-f692-57f1a3699b24"
      },
      "execution_count": null,
      "outputs": [
        {
          "output_type": "stream",
          "name": "stdout",
          "text": [
            "MSE: based on scikit-image =  333.25937906901044\n"
          ]
        }
      ]
    },
    {
      "cell_type": "code",
      "source": [
        "#Normalized root mean squared error\n",
        "from skimage.metrics import normalized_root_mse\n",
        "rmse_skimg = normalized_root_mse(ref_img, img)\n",
        "print(\"RMSE: based on scikit-image = \", rmse_skimg)"
      ],
      "metadata": {
        "colab": {
          "base_uri": "https://localhost:8080/"
        },
        "id": "Ax2Ux5JrTqzW",
        "outputId": "3022b81e-b736-4c10-b1cb-fe8d18917b91"
      },
      "execution_count": null,
      "outputs": [
        {
          "output_type": "stream",
          "name": "stdout",
          "text": [
            "RMSE: based on scikit-image =  0.1722758896127752\n"
          ]
        }
      ]
    },
    {
      "cell_type": "code",
      "source": [
        "#PSNR\n",
        "\"\"\"calculates peak signal-to-noise ratio (psnr).\n",
        "\t:param GT: first (original) input image.\n",
        "\t:param P: second (deformed) input image.\n",
        "\t:param MAX: maximum value of datarange (if None, MAX is calculated using image dtype).\n",
        "\t:returns:  float -- psnr value in dB.\n",
        "\t\"\"\"\n",
        "psnr_img=full_ref.psnr(ref_img, img, MAX=None)\n",
        "\n",
        "print(\"PSNR: peak signal-to-noise ratio = \", psnr_img)"
      ],
      "metadata": {
        "colab": {
          "base_uri": "https://localhost:8080/"
        },
        "id": "QXD23mHZTq-i",
        "outputId": "72ad95bb-6f0a-47f2-beab-9531ef0808c9"
      },
      "execution_count": null,
      "outputs": [
        {
          "output_type": "stream",
          "name": "stdout",
          "text": [
            "PSNR: peak signal-to-noise ratio =  22.9029798006454\n"
          ]
        }
      ]
    },
    {
      "cell_type": "code",
      "source": [
        "#Reference and image to be compared must be of the same size\n",
        "ref_img = cv2.imread(\"im290lr1.jpg\", 1)\n",
        "img = cv2.imread(\"im290hr1.jpg\", 1)"
      ],
      "metadata": {
        "id": "6g9eS2eLUlI5"
      },
      "execution_count": null,
      "outputs": []
    },
    {
      "cell_type": "code",
      "source": [
        "#skimage tools\n",
        "#Mean square error\n",
        "from skimage.metrics import mean_squared_error\n",
        "mse_skimg = mean_squared_error(ref_img, img)\n",
        "print(\"MSE: based on scikit-image = \", mse_skimg)"
      ],
      "metadata": {
        "colab": {
          "base_uri": "https://localhost:8080/"
        },
        "id": "VS5hPmlfUlVs",
        "outputId": "37ea3ee0-af33-41ed-d145-29f8781392d0"
      },
      "execution_count": null,
      "outputs": [
        {
          "output_type": "stream",
          "name": "stdout",
          "text": [
            "MSE: based on scikit-image =  116.21938069661458\n"
          ]
        }
      ]
    },
    {
      "cell_type": "code",
      "source": [
        "#Normalized root mean squared error\n",
        "from skimage.metrics import normalized_root_mse\n",
        "rmse_skimg = normalized_root_mse(ref_img, img)\n",
        "print(\"RMSE: based on scikit-image = \", rmse_skimg)"
      ],
      "metadata": {
        "colab": {
          "base_uri": "https://localhost:8080/"
        },
        "id": "OPT0Oi7HUlZW",
        "outputId": "c36dfdbb-7c3c-455e-e701-9734c2f8612a"
      },
      "execution_count": null,
      "outputs": [
        {
          "output_type": "stream",
          "name": "stdout",
          "text": [
            "RMSE: based on scikit-image =  0.07151205984884723\n"
          ]
        }
      ]
    },
    {
      "cell_type": "code",
      "source": [
        "#PSNR\n",
        "\"\"\"calculates peak signal-to-noise ratio (psnr).\n",
        "\t:param GT: first (original) input image.\n",
        "\t:param P: second (deformed) input image.\n",
        "\t:param MAX: maximum value of datarange (if None, MAX is calculated using image dtype).\n",
        "\t:returns:  float -- psnr value in dB.\n",
        "\t\"\"\"\n",
        "psnr_img=full_ref.psnr(ref_img, img, MAX=None)\n",
        "\n",
        "print(\"PSNR: peak signal-to-noise ratio = \", psnr_img)"
      ],
      "metadata": {
        "colab": {
          "base_uri": "https://localhost:8080/"
        },
        "id": "M4BR3-R1Ulco",
        "outputId": "f2bfce45-498f-4c50-be89-435ea9efe0ac"
      },
      "execution_count": null,
      "outputs": [
        {
          "output_type": "stream",
          "name": "stdout",
          "text": [
            "PSNR: peak signal-to-noise ratio =  27.478018040033206\n"
          ]
        }
      ]
    },
    {
      "cell_type": "code",
      "source": [
        "#Reference and image to be compared must be of the same size\n",
        "ref_img = cv2.imread(\"im159lr.jpg\", 1)\n",
        "img = cv2.imread(\"im159hr.jpg\", 1)"
      ],
      "metadata": {
        "id": "YuMKmEU4UlgM"
      },
      "execution_count": null,
      "outputs": []
    },
    {
      "cell_type": "code",
      "source": [
        "#skimage tools\n",
        "#Mean square error\n",
        "from skimage.metrics import mean_squared_error\n",
        "mse_skimg = mean_squared_error(ref_img, img)\n",
        "print(\"MSE: based on scikit-image = \", mse_skimg)"
      ],
      "metadata": {
        "colab": {
          "base_uri": "https://localhost:8080/"
        },
        "id": "0s5ltSlmUloo",
        "outputId": "cf7d9bf1-30b4-4843-e060-6bc527f96bfc"
      },
      "execution_count": null,
      "outputs": [
        {
          "output_type": "stream",
          "name": "stdout",
          "text": [
            "MSE: based on scikit-image =  249.4096883138021\n"
          ]
        }
      ]
    },
    {
      "cell_type": "code",
      "source": [
        "#Normalized root mean squared error\n",
        "from skimage.metrics import normalized_root_mse\n",
        "rmse_skimg = normalized_root_mse(ref_img, img)\n",
        "print(\"RMSE: based on scikit-image = \", rmse_skimg)"
      ],
      "metadata": {
        "colab": {
          "base_uri": "https://localhost:8080/"
        },
        "id": "18Mulzd4Ul1E",
        "outputId": "00b44fa4-f609-4854-89b0-5f54f743ad95"
      },
      "execution_count": null,
      "outputs": [
        {
          "output_type": "stream",
          "name": "stdout",
          "text": [
            "RMSE: based on scikit-image =  0.1252574347335598\n"
          ]
        }
      ]
    },
    {
      "cell_type": "code",
      "source": [
        "#PSNR\n",
        "\"\"\"calculates peak signal-to-noise ratio (psnr).\n",
        "\t:param GT: first (original) input image.\n",
        "\t:param P: second (deformed) input image.\n",
        "\t:param MAX: maximum value of datarange (if None, MAX is calculated using image dtype).\n",
        "\t:returns:  float -- psnr value in dB.\n",
        "\t\"\"\"\n",
        "psnr_img=full_ref.psnr(ref_img, img, MAX=None)\n",
        "\n",
        "print(\"PSNR: peak signal-to-noise ratio = \", psnr_img)"
      ],
      "metadata": {
        "colab": {
          "base_uri": "https://localhost:8080/"
        },
        "id": "5iHdil1fYJjZ",
        "outputId": "23bdadfd-b2bd-4e72-a6e9-58a4b1aa76ed"
      },
      "execution_count": null,
      "outputs": [
        {
          "output_type": "stream",
          "name": "stdout",
          "text": [
            "PSNR: peak signal-to-noise ratio =  24.161670412382158\n"
          ]
        }
      ]
    },
    {
      "cell_type": "code",
      "source": [
        "#Reference and image to be compared must be of the same size\n",
        "ref_img = cv2.imread(\"b.jpg\", 1)\n",
        "img = cv2.imread(\"mc.jpg\", 1)"
      ],
      "metadata": {
        "id": "xELip9HVwjH6"
      },
      "execution_count": null,
      "outputs": []
    },
    {
      "cell_type": "code",
      "source": [
        "#skimage tools\n",
        "#Mean square error\n",
        "from skimage.metrics import mean_squared_error\n",
        "mse_skimg = mean_squared_error(ref_img, img)\n",
        "print(\"MSE: based on scikit-image = \", mse_skimg)"
      ],
      "metadata": {
        "colab": {
          "base_uri": "https://localhost:8080/"
        },
        "id": "VXXMngAbwnQG",
        "outputId": "6216916c-abf3-475e-ddbf-43f89f0b011f"
      },
      "execution_count": null,
      "outputs": [
        {
          "output_type": "stream",
          "name": "stdout",
          "text": [
            "MSE: based on scikit-image =  645.5819091796875\n"
          ]
        }
      ]
    },
    {
      "cell_type": "code",
      "source": [
        "#Normalized root mean squared error\n",
        "from skimage.metrics import normalized_root_mse\n",
        "rmse_skimg = normalized_root_mse(ref_img, img)\n",
        "print(\"RMSE: based on scikit-image = \", rmse_skimg)"
      ],
      "metadata": {
        "colab": {
          "base_uri": "https://localhost:8080/"
        },
        "id": "alT_UqPNwsQV",
        "outputId": "9638f25e-f16d-48d1-f6fc-0aeb3e14f5c6"
      },
      "execution_count": null,
      "outputs": [
        {
          "output_type": "stream",
          "name": "stdout",
          "text": [
            "RMSE: based on scikit-image =  0.20194541327247803\n"
          ]
        }
      ]
    },
    {
      "cell_type": "code",
      "source": [
        "#PSNR\n",
        "\"\"\"calculates peak signal-to-noise ratio (psnr).\n",
        "\t:param GT: first (original) input image.\n",
        "\t:param P: second (deformed) input image.\n",
        "\t:param MAX: maximum value of datarange (if None, MAX is calculated using image dtype).\n",
        "\t:returns:  float -- psnr value in dB.\n",
        "\t\"\"\"\n",
        "psnr_img=full_ref.psnr(ref_img, img, MAX=None)\n",
        "\n",
        "print(\"PSNR: peak signal-to-noise ratio = \", psnr_img)"
      ],
      "metadata": {
        "colab": {
          "base_uri": "https://localhost:8080/"
        },
        "id": "8aAmcM3Bwvzr",
        "outputId": "75c60d59-8588-4e79-fbbe-5cae3b533a3c"
      },
      "execution_count": null,
      "outputs": [
        {
          "output_type": "stream",
          "name": "stdout",
          "text": [
            "PSNR: peak signal-to-noise ratio =  20.031290090013506\n"
          ]
        }
      ]
    },
    {
      "cell_type": "code",
      "source": [
        "#Reference and image to be compared must be of the same size\n",
        "ref_img = cv2.imread(\"im158lr.jpg\", 1)\n",
        "img = cv2.imread(\"im158hggg.jpg\", 1)"
      ],
      "metadata": {
        "id": "JiDbIWO_-ZZX"
      },
      "execution_count": null,
      "outputs": []
    },
    {
      "cell_type": "code",
      "source": [
        "#skimage tools\n",
        "#Mean square error\n",
        "from skimage.metrics import mean_squared_error\n",
        "mse_skimg = mean_squared_error(ref_img, img)\n",
        "print(\"MSE: based on scikit-image = \", mse_skimg)"
      ],
      "metadata": {
        "colab": {
          "base_uri": "https://localhost:8080/"
        },
        "id": "0FzpYu-Y-Zcc",
        "outputId": "5d7b3b16-e035-4a88-ce72-886f67b53972"
      },
      "execution_count": null,
      "outputs": [
        {
          "output_type": "stream",
          "name": "stdout",
          "text": [
            "MSE: based on scikit-image =  149.3971964518229\n"
          ]
        }
      ]
    },
    {
      "cell_type": "code",
      "source": [
        "#Normalized root mean squared error\n",
        "from skimage.metrics import normalized_root_mse\n",
        "rmse_skimg = normalized_root_mse(ref_img, img)\n",
        "print(\"RMSE: based on scikit-image = \", rmse_skimg)"
      ],
      "metadata": {
        "colab": {
          "base_uri": "https://localhost:8080/"
        },
        "id": "znYhYKoO-ZfR",
        "outputId": "39fbc502-0cf2-4d0b-9f23-aeef2d3df70e"
      },
      "execution_count": null,
      "outputs": [
        {
          "output_type": "stream",
          "name": "stdout",
          "text": [
            "RMSE: based on scikit-image =  0.1409142490635714\n"
          ]
        }
      ]
    },
    {
      "cell_type": "code",
      "source": [
        "#PSNR\n",
        "\"\"\"calculates peak signal-to-noise ratio (psnr).\n",
        "\t:param GT: first (original) input image.\n",
        "\t:param P: second (deformed) input image.\n",
        "\t:param MAX: maximum value of datarange (if None, MAX is calculated using image dtype).\n",
        "\t:returns:  float -- psnr value in dB.\n",
        "\t\"\"\"\n",
        "psnr_img=full_ref.psnr(ref_img, img, MAX=None)\n",
        "\n",
        "print(\"PSNR: peak signal-to-noise ratio = \", psnr_img)"
      ],
      "metadata": {
        "colab": {
          "base_uri": "https://localhost:8080/"
        },
        "id": "EeY4_wel-ZiC",
        "outputId": "b2a34d13-30db-46f7-c5da-900689b68130"
      },
      "execution_count": null,
      "outputs": [
        {
          "output_type": "stream",
          "name": "stdout",
          "text": [
            "PSNR: peak signal-to-noise ratio =  26.3873791316716\n"
          ]
        }
      ]
    },
    {
      "cell_type": "code",
      "source": [],
      "metadata": {
        "id": "UQvNS3QJ-Zlb"
      },
      "execution_count": null,
      "outputs": []
    }
  ]
}